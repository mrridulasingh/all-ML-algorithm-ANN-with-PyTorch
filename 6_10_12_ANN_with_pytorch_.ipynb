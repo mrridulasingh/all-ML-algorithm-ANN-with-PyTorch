{
  "nbformat": 4,
  "nbformat_minor": 0,
  "metadata": {
    "colab": {
      "name": "6-10-12 ANN with pytorch .ipynb",
      "provenance": [],
      "collapsed_sections": []
    },
    "kernelspec": {
      "name": "python3",
      "display_name": "Python 3"
    },
    "language_info": {
      "name": "python"
    },
    "accelerator": "GPU"
  },
  "cells": [
    {
      "cell_type": "code",
      "metadata": {
        "id": "gltKC3D1zzH9"
      },
      "source": [
        "import pandas as pd\n",
        "import numpy as np\n"
      ],
      "execution_count": 1,
      "outputs": []
    },
    {
      "cell_type": "code",
      "metadata": {
        "colab": {
          "base_uri": "https://localhost:8080/"
        },
        "id": "c_fsyYzI5Q7k",
        "outputId": "37e64c42-ae2e-4a59-bbca-a2411e55ac7d"
      },
      "source": [
        "from google.colab import drive\n",
        "drive.mount('/content/drive')"
      ],
      "execution_count": 2,
      "outputs": [
        {
          "output_type": "stream",
          "name": "stdout",
          "text": [
            "Drive already mounted at /content/drive; to attempt to forcibly remount, call drive.mount(\"/content/drive\", force_remount=True).\n"
          ]
        }
      ]
    },
    {
      "cell_type": "code",
      "metadata": {
        "colab": {
          "base_uri": "https://localhost:8080/",
          "height": 602
        },
        "id": "PiLMKkOl0RBE",
        "outputId": "29ccb83e-1ded-4c73-fd7c-66e7ad4c5133"
      },
      "source": [
        "df=pd.read_csv(\"/content/drive/MyDrive/ML files/avocado.csv\")\n",
        "df"
      ],
      "execution_count": 3,
      "outputs": [
        {
          "output_type": "execute_result",
          "data": {
            "text/html": [
              "<div>\n",
              "<style scoped>\n",
              "    .dataframe tbody tr th:only-of-type {\n",
              "        vertical-align: middle;\n",
              "    }\n",
              "\n",
              "    .dataframe tbody tr th {\n",
              "        vertical-align: top;\n",
              "    }\n",
              "\n",
              "    .dataframe thead th {\n",
              "        text-align: right;\n",
              "    }\n",
              "</style>\n",
              "<table border=\"1\" class=\"dataframe\">\n",
              "  <thead>\n",
              "    <tr style=\"text-align: right;\">\n",
              "      <th></th>\n",
              "      <th>Unnamed: 0</th>\n",
              "      <th>Date</th>\n",
              "      <th>AveragePrice</th>\n",
              "      <th>Total Volume</th>\n",
              "      <th>4046</th>\n",
              "      <th>4225</th>\n",
              "      <th>4770</th>\n",
              "      <th>Total Bags</th>\n",
              "      <th>Small Bags</th>\n",
              "      <th>Large Bags</th>\n",
              "      <th>XLarge Bags</th>\n",
              "      <th>type</th>\n",
              "      <th>year</th>\n",
              "      <th>region</th>\n",
              "    </tr>\n",
              "  </thead>\n",
              "  <tbody>\n",
              "    <tr>\n",
              "      <th>0</th>\n",
              "      <td>0</td>\n",
              "      <td>2015-12-27</td>\n",
              "      <td>1.33</td>\n",
              "      <td>64236.62</td>\n",
              "      <td>1036.74</td>\n",
              "      <td>54454.85</td>\n",
              "      <td>48.16</td>\n",
              "      <td>8696.87</td>\n",
              "      <td>8603.62</td>\n",
              "      <td>93.25</td>\n",
              "      <td>0.0</td>\n",
              "      <td>conventional</td>\n",
              "      <td>2015</td>\n",
              "      <td>Albany</td>\n",
              "    </tr>\n",
              "    <tr>\n",
              "      <th>1</th>\n",
              "      <td>1</td>\n",
              "      <td>2015-12-20</td>\n",
              "      <td>1.35</td>\n",
              "      <td>54876.98</td>\n",
              "      <td>674.28</td>\n",
              "      <td>44638.81</td>\n",
              "      <td>58.33</td>\n",
              "      <td>9505.56</td>\n",
              "      <td>9408.07</td>\n",
              "      <td>97.49</td>\n",
              "      <td>0.0</td>\n",
              "      <td>conventional</td>\n",
              "      <td>2015</td>\n",
              "      <td>Albany</td>\n",
              "    </tr>\n",
              "    <tr>\n",
              "      <th>2</th>\n",
              "      <td>2</td>\n",
              "      <td>2015-12-13</td>\n",
              "      <td>0.93</td>\n",
              "      <td>118220.22</td>\n",
              "      <td>794.70</td>\n",
              "      <td>109149.67</td>\n",
              "      <td>130.50</td>\n",
              "      <td>8145.35</td>\n",
              "      <td>8042.21</td>\n",
              "      <td>103.14</td>\n",
              "      <td>0.0</td>\n",
              "      <td>conventional</td>\n",
              "      <td>2015</td>\n",
              "      <td>Albany</td>\n",
              "    </tr>\n",
              "    <tr>\n",
              "      <th>3</th>\n",
              "      <td>3</td>\n",
              "      <td>2015-12-06</td>\n",
              "      <td>1.08</td>\n",
              "      <td>78992.15</td>\n",
              "      <td>1132.00</td>\n",
              "      <td>71976.41</td>\n",
              "      <td>72.58</td>\n",
              "      <td>5811.16</td>\n",
              "      <td>5677.40</td>\n",
              "      <td>133.76</td>\n",
              "      <td>0.0</td>\n",
              "      <td>conventional</td>\n",
              "      <td>2015</td>\n",
              "      <td>Albany</td>\n",
              "    </tr>\n",
              "    <tr>\n",
              "      <th>4</th>\n",
              "      <td>4</td>\n",
              "      <td>2015-11-29</td>\n",
              "      <td>1.28</td>\n",
              "      <td>51039.60</td>\n",
              "      <td>941.48</td>\n",
              "      <td>43838.39</td>\n",
              "      <td>75.78</td>\n",
              "      <td>6183.95</td>\n",
              "      <td>5986.26</td>\n",
              "      <td>197.69</td>\n",
              "      <td>0.0</td>\n",
              "      <td>conventional</td>\n",
              "      <td>2015</td>\n",
              "      <td>Albany</td>\n",
              "    </tr>\n",
              "    <tr>\n",
              "      <th>...</th>\n",
              "      <td>...</td>\n",
              "      <td>...</td>\n",
              "      <td>...</td>\n",
              "      <td>...</td>\n",
              "      <td>...</td>\n",
              "      <td>...</td>\n",
              "      <td>...</td>\n",
              "      <td>...</td>\n",
              "      <td>...</td>\n",
              "      <td>...</td>\n",
              "      <td>...</td>\n",
              "      <td>...</td>\n",
              "      <td>...</td>\n",
              "      <td>...</td>\n",
              "    </tr>\n",
              "    <tr>\n",
              "      <th>18244</th>\n",
              "      <td>7</td>\n",
              "      <td>2018-02-04</td>\n",
              "      <td>1.63</td>\n",
              "      <td>17074.83</td>\n",
              "      <td>2046.96</td>\n",
              "      <td>1529.20</td>\n",
              "      <td>0.00</td>\n",
              "      <td>13498.67</td>\n",
              "      <td>13066.82</td>\n",
              "      <td>431.85</td>\n",
              "      <td>0.0</td>\n",
              "      <td>organic</td>\n",
              "      <td>2018</td>\n",
              "      <td>WestTexNewMexico</td>\n",
              "    </tr>\n",
              "    <tr>\n",
              "      <th>18245</th>\n",
              "      <td>8</td>\n",
              "      <td>2018-01-28</td>\n",
              "      <td>1.71</td>\n",
              "      <td>13888.04</td>\n",
              "      <td>1191.70</td>\n",
              "      <td>3431.50</td>\n",
              "      <td>0.00</td>\n",
              "      <td>9264.84</td>\n",
              "      <td>8940.04</td>\n",
              "      <td>324.80</td>\n",
              "      <td>0.0</td>\n",
              "      <td>organic</td>\n",
              "      <td>2018</td>\n",
              "      <td>WestTexNewMexico</td>\n",
              "    </tr>\n",
              "    <tr>\n",
              "      <th>18246</th>\n",
              "      <td>9</td>\n",
              "      <td>2018-01-21</td>\n",
              "      <td>1.87</td>\n",
              "      <td>13766.76</td>\n",
              "      <td>1191.92</td>\n",
              "      <td>2452.79</td>\n",
              "      <td>727.94</td>\n",
              "      <td>9394.11</td>\n",
              "      <td>9351.80</td>\n",
              "      <td>42.31</td>\n",
              "      <td>0.0</td>\n",
              "      <td>organic</td>\n",
              "      <td>2018</td>\n",
              "      <td>WestTexNewMexico</td>\n",
              "    </tr>\n",
              "    <tr>\n",
              "      <th>18247</th>\n",
              "      <td>10</td>\n",
              "      <td>2018-01-14</td>\n",
              "      <td>1.93</td>\n",
              "      <td>16205.22</td>\n",
              "      <td>1527.63</td>\n",
              "      <td>2981.04</td>\n",
              "      <td>727.01</td>\n",
              "      <td>10969.54</td>\n",
              "      <td>10919.54</td>\n",
              "      <td>50.00</td>\n",
              "      <td>0.0</td>\n",
              "      <td>organic</td>\n",
              "      <td>2018</td>\n",
              "      <td>WestTexNewMexico</td>\n",
              "    </tr>\n",
              "    <tr>\n",
              "      <th>18248</th>\n",
              "      <td>11</td>\n",
              "      <td>2018-01-07</td>\n",
              "      <td>1.62</td>\n",
              "      <td>17489.58</td>\n",
              "      <td>2894.77</td>\n",
              "      <td>2356.13</td>\n",
              "      <td>224.53</td>\n",
              "      <td>12014.15</td>\n",
              "      <td>11988.14</td>\n",
              "      <td>26.01</td>\n",
              "      <td>0.0</td>\n",
              "      <td>organic</td>\n",
              "      <td>2018</td>\n",
              "      <td>WestTexNewMexico</td>\n",
              "    </tr>\n",
              "  </tbody>\n",
              "</table>\n",
              "<p>18249 rows × 14 columns</p>\n",
              "</div>"
            ],
            "text/plain": [
              "       Unnamed: 0        Date  ...  year            region\n",
              "0               0  2015-12-27  ...  2015            Albany\n",
              "1               1  2015-12-20  ...  2015            Albany\n",
              "2               2  2015-12-13  ...  2015            Albany\n",
              "3               3  2015-12-06  ...  2015            Albany\n",
              "4               4  2015-11-29  ...  2015            Albany\n",
              "...           ...         ...  ...   ...               ...\n",
              "18244           7  2018-02-04  ...  2018  WestTexNewMexico\n",
              "18245           8  2018-01-28  ...  2018  WestTexNewMexico\n",
              "18246           9  2018-01-21  ...  2018  WestTexNewMexico\n",
              "18247          10  2018-01-14  ...  2018  WestTexNewMexico\n",
              "18248          11  2018-01-07  ...  2018  WestTexNewMexico\n",
              "\n",
              "[18249 rows x 14 columns]"
            ]
          },
          "metadata": {},
          "execution_count": 3
        }
      ]
    },
    {
      "cell_type": "code",
      "metadata": {
        "id": "5YGf-fYL0aPA"
      },
      "source": [
        "num_feature=['AveragePrice', 'Total Volume', '4046', '4225', '4770', 'Total Bags', 'Small Bags', 'Large Bags']"
      ],
      "execution_count": 4,
      "outputs": []
    },
    {
      "cell_type": "markdown",
      "metadata": {
        "id": "C6JmE4Y_0zAm"
      },
      "source": [
        "**Removel of Outliers from all numeric variables**"
      ]
    },
    {
      "cell_type": "code",
      "metadata": {
        "colab": {
          "base_uri": "https://localhost:8080/"
        },
        "id": "3Ovq2jr80r1e",
        "outputId": "4c72e8d2-43a2-46c7-f9dd-bda85321dbf2"
      },
      "source": [
        "quantile_25=df[num_feature].quantile(0.25)\n",
        "quantile_75=df[num_feature].quantile(0.75)\n",
        "interquantile=quantile_75-quantile_25\n",
        "\n",
        "print(interquantile)"
      ],
      "execution_count": 5,
      "outputs": [
        {
          "output_type": "stream",
          "name": "stdout",
          "text": [
            "AveragePrice         0.56\n",
            "Total Volume    422123.71\n",
            "4046            110166.13\n",
            "4225            147198.08\n",
            "4770              6243.42\n",
            "Total Bags      105694.73\n",
            "Small Bags       80488.25\n",
            "Large Bags       21901.78\n",
            "dtype: float64\n"
          ]
        }
      ]
    },
    {
      "cell_type": "code",
      "metadata": {
        "id": "l15c-2Lh05Xo"
      },
      "source": [
        "df_filter=df[~((df[num_feature]< (quantile_25 - 3*interquantile))|(df[num_feature] > (quantile_75 + 3*interquantile))).any(axis=1)]"
      ],
      "execution_count": 6,
      "outputs": []
    },
    {
      "cell_type": "code",
      "metadata": {
        "colab": {
          "base_uri": "https://localhost:8080/"
        },
        "id": "yXQZQtqD08l6",
        "outputId": "13d9a64e-468c-405c-e19b-0cc2b35d3c8a"
      },
      "source": [
        "df_filter.shape"
      ],
      "execution_count": 7,
      "outputs": [
        {
          "output_type": "execute_result",
          "data": {
            "text/plain": [
              "(14306, 14)"
            ]
          },
          "metadata": {},
          "execution_count": 7
        }
      ]
    },
    {
      "cell_type": "code",
      "metadata": {
        "colab": {
          "base_uri": "https://localhost:8080/",
          "height": 602
        },
        "id": "yEshgu530_ML",
        "outputId": "7db92a51-b245-40e0-e304-b57f10d48a88"
      },
      "source": [
        "df_filter"
      ],
      "execution_count": 8,
      "outputs": [
        {
          "output_type": "execute_result",
          "data": {
            "text/html": [
              "<div>\n",
              "<style scoped>\n",
              "    .dataframe tbody tr th:only-of-type {\n",
              "        vertical-align: middle;\n",
              "    }\n",
              "\n",
              "    .dataframe tbody tr th {\n",
              "        vertical-align: top;\n",
              "    }\n",
              "\n",
              "    .dataframe thead th {\n",
              "        text-align: right;\n",
              "    }\n",
              "</style>\n",
              "<table border=\"1\" class=\"dataframe\">\n",
              "  <thead>\n",
              "    <tr style=\"text-align: right;\">\n",
              "      <th></th>\n",
              "      <th>Unnamed: 0</th>\n",
              "      <th>Date</th>\n",
              "      <th>AveragePrice</th>\n",
              "      <th>Total Volume</th>\n",
              "      <th>4046</th>\n",
              "      <th>4225</th>\n",
              "      <th>4770</th>\n",
              "      <th>Total Bags</th>\n",
              "      <th>Small Bags</th>\n",
              "      <th>Large Bags</th>\n",
              "      <th>XLarge Bags</th>\n",
              "      <th>type</th>\n",
              "      <th>year</th>\n",
              "      <th>region</th>\n",
              "    </tr>\n",
              "  </thead>\n",
              "  <tbody>\n",
              "    <tr>\n",
              "      <th>0</th>\n",
              "      <td>0</td>\n",
              "      <td>2015-12-27</td>\n",
              "      <td>1.33</td>\n",
              "      <td>64236.62</td>\n",
              "      <td>1036.74</td>\n",
              "      <td>54454.85</td>\n",
              "      <td>48.16</td>\n",
              "      <td>8696.87</td>\n",
              "      <td>8603.62</td>\n",
              "      <td>93.25</td>\n",
              "      <td>0.0</td>\n",
              "      <td>conventional</td>\n",
              "      <td>2015</td>\n",
              "      <td>Albany</td>\n",
              "    </tr>\n",
              "    <tr>\n",
              "      <th>1</th>\n",
              "      <td>1</td>\n",
              "      <td>2015-12-20</td>\n",
              "      <td>1.35</td>\n",
              "      <td>54876.98</td>\n",
              "      <td>674.28</td>\n",
              "      <td>44638.81</td>\n",
              "      <td>58.33</td>\n",
              "      <td>9505.56</td>\n",
              "      <td>9408.07</td>\n",
              "      <td>97.49</td>\n",
              "      <td>0.0</td>\n",
              "      <td>conventional</td>\n",
              "      <td>2015</td>\n",
              "      <td>Albany</td>\n",
              "    </tr>\n",
              "    <tr>\n",
              "      <th>2</th>\n",
              "      <td>2</td>\n",
              "      <td>2015-12-13</td>\n",
              "      <td>0.93</td>\n",
              "      <td>118220.22</td>\n",
              "      <td>794.70</td>\n",
              "      <td>109149.67</td>\n",
              "      <td>130.50</td>\n",
              "      <td>8145.35</td>\n",
              "      <td>8042.21</td>\n",
              "      <td>103.14</td>\n",
              "      <td>0.0</td>\n",
              "      <td>conventional</td>\n",
              "      <td>2015</td>\n",
              "      <td>Albany</td>\n",
              "    </tr>\n",
              "    <tr>\n",
              "      <th>3</th>\n",
              "      <td>3</td>\n",
              "      <td>2015-12-06</td>\n",
              "      <td>1.08</td>\n",
              "      <td>78992.15</td>\n",
              "      <td>1132.00</td>\n",
              "      <td>71976.41</td>\n",
              "      <td>72.58</td>\n",
              "      <td>5811.16</td>\n",
              "      <td>5677.40</td>\n",
              "      <td>133.76</td>\n",
              "      <td>0.0</td>\n",
              "      <td>conventional</td>\n",
              "      <td>2015</td>\n",
              "      <td>Albany</td>\n",
              "    </tr>\n",
              "    <tr>\n",
              "      <th>4</th>\n",
              "      <td>4</td>\n",
              "      <td>2015-11-29</td>\n",
              "      <td>1.28</td>\n",
              "      <td>51039.60</td>\n",
              "      <td>941.48</td>\n",
              "      <td>43838.39</td>\n",
              "      <td>75.78</td>\n",
              "      <td>6183.95</td>\n",
              "      <td>5986.26</td>\n",
              "      <td>197.69</td>\n",
              "      <td>0.0</td>\n",
              "      <td>conventional</td>\n",
              "      <td>2015</td>\n",
              "      <td>Albany</td>\n",
              "    </tr>\n",
              "    <tr>\n",
              "      <th>...</th>\n",
              "      <td>...</td>\n",
              "      <td>...</td>\n",
              "      <td>...</td>\n",
              "      <td>...</td>\n",
              "      <td>...</td>\n",
              "      <td>...</td>\n",
              "      <td>...</td>\n",
              "      <td>...</td>\n",
              "      <td>...</td>\n",
              "      <td>...</td>\n",
              "      <td>...</td>\n",
              "      <td>...</td>\n",
              "      <td>...</td>\n",
              "      <td>...</td>\n",
              "    </tr>\n",
              "    <tr>\n",
              "      <th>18244</th>\n",
              "      <td>7</td>\n",
              "      <td>2018-02-04</td>\n",
              "      <td>1.63</td>\n",
              "      <td>17074.83</td>\n",
              "      <td>2046.96</td>\n",
              "      <td>1529.20</td>\n",
              "      <td>0.00</td>\n",
              "      <td>13498.67</td>\n",
              "      <td>13066.82</td>\n",
              "      <td>431.85</td>\n",
              "      <td>0.0</td>\n",
              "      <td>organic</td>\n",
              "      <td>2018</td>\n",
              "      <td>WestTexNewMexico</td>\n",
              "    </tr>\n",
              "    <tr>\n",
              "      <th>18245</th>\n",
              "      <td>8</td>\n",
              "      <td>2018-01-28</td>\n",
              "      <td>1.71</td>\n",
              "      <td>13888.04</td>\n",
              "      <td>1191.70</td>\n",
              "      <td>3431.50</td>\n",
              "      <td>0.00</td>\n",
              "      <td>9264.84</td>\n",
              "      <td>8940.04</td>\n",
              "      <td>324.80</td>\n",
              "      <td>0.0</td>\n",
              "      <td>organic</td>\n",
              "      <td>2018</td>\n",
              "      <td>WestTexNewMexico</td>\n",
              "    </tr>\n",
              "    <tr>\n",
              "      <th>18246</th>\n",
              "      <td>9</td>\n",
              "      <td>2018-01-21</td>\n",
              "      <td>1.87</td>\n",
              "      <td>13766.76</td>\n",
              "      <td>1191.92</td>\n",
              "      <td>2452.79</td>\n",
              "      <td>727.94</td>\n",
              "      <td>9394.11</td>\n",
              "      <td>9351.80</td>\n",
              "      <td>42.31</td>\n",
              "      <td>0.0</td>\n",
              "      <td>organic</td>\n",
              "      <td>2018</td>\n",
              "      <td>WestTexNewMexico</td>\n",
              "    </tr>\n",
              "    <tr>\n",
              "      <th>18247</th>\n",
              "      <td>10</td>\n",
              "      <td>2018-01-14</td>\n",
              "      <td>1.93</td>\n",
              "      <td>16205.22</td>\n",
              "      <td>1527.63</td>\n",
              "      <td>2981.04</td>\n",
              "      <td>727.01</td>\n",
              "      <td>10969.54</td>\n",
              "      <td>10919.54</td>\n",
              "      <td>50.00</td>\n",
              "      <td>0.0</td>\n",
              "      <td>organic</td>\n",
              "      <td>2018</td>\n",
              "      <td>WestTexNewMexico</td>\n",
              "    </tr>\n",
              "    <tr>\n",
              "      <th>18248</th>\n",
              "      <td>11</td>\n",
              "      <td>2018-01-07</td>\n",
              "      <td>1.62</td>\n",
              "      <td>17489.58</td>\n",
              "      <td>2894.77</td>\n",
              "      <td>2356.13</td>\n",
              "      <td>224.53</td>\n",
              "      <td>12014.15</td>\n",
              "      <td>11988.14</td>\n",
              "      <td>26.01</td>\n",
              "      <td>0.0</td>\n",
              "      <td>organic</td>\n",
              "      <td>2018</td>\n",
              "      <td>WestTexNewMexico</td>\n",
              "    </tr>\n",
              "  </tbody>\n",
              "</table>\n",
              "<p>14306 rows × 14 columns</p>\n",
              "</div>"
            ],
            "text/plain": [
              "       Unnamed: 0        Date  ...  year            region\n",
              "0               0  2015-12-27  ...  2015            Albany\n",
              "1               1  2015-12-20  ...  2015            Albany\n",
              "2               2  2015-12-13  ...  2015            Albany\n",
              "3               3  2015-12-06  ...  2015            Albany\n",
              "4               4  2015-11-29  ...  2015            Albany\n",
              "...           ...         ...  ...   ...               ...\n",
              "18244           7  2018-02-04  ...  2018  WestTexNewMexico\n",
              "18245           8  2018-01-28  ...  2018  WestTexNewMexico\n",
              "18246           9  2018-01-21  ...  2018  WestTexNewMexico\n",
              "18247          10  2018-01-14  ...  2018  WestTexNewMexico\n",
              "18248          11  2018-01-07  ...  2018  WestTexNewMexico\n",
              "\n",
              "[14306 rows x 14 columns]"
            ]
          },
          "metadata": {},
          "execution_count": 8
        }
      ]
    },
    {
      "cell_type": "code",
      "metadata": {
        "id": "H6DePXES1Est"
      },
      "source": [
        "cat_feature =[\"type\", \"region\"]\n",
        "out_feature=[\"AveragePrice\"]"
      ],
      "execution_count": 9,
      "outputs": []
    },
    {
      "cell_type": "code",
      "metadata": {
        "id": "AwFgVJTO21U-"
      },
      "source": [
        "import warnings\n",
        "warnings.filterwarnings('ignore')\n"
      ],
      "execution_count": 10,
      "outputs": []
    },
    {
      "cell_type": "code",
      "metadata": {
        "id": "0vyn-8hh1hEf"
      },
      "source": [
        "df_filter.drop([\"Unnamed: 0\", \"Date\"], axis=1, inplace=True)"
      ],
      "execution_count": 11,
      "outputs": []
    },
    {
      "cell_type": "code",
      "metadata": {
        "id": "4NVMRKCW15PP"
      },
      "source": [
        "from sklearn.preprocessing import LabelEncoder\n",
        "lbl_encoder={}\n",
        "for feature in cat_feature:\n",
        "  lbl_encoder[feature] = LabelEncoder()\n",
        "  df_filter[feature] = lbl_encoder[feature].fit_transform(df_filter[feature])\n"
      ],
      "execution_count": 12,
      "outputs": []
    },
    {
      "cell_type": "code",
      "metadata": {
        "colab": {
          "base_uri": "https://localhost:8080/"
        },
        "id": "QciMJNbT2Fd4",
        "outputId": "4938e904-ad3a-4b23-9bed-8f37e255929e"
      },
      "source": [
        "### Stacking and Converting Into Tensors\n",
        "cat_feature=np.stack([df_filter[\"type\"], df_filter[\"region\"]], 1)\n",
        "cat_feature"
      ],
      "execution_count": 13,
      "outputs": [
        {
          "output_type": "execute_result",
          "data": {
            "text/plain": [
              "array([[ 0,  0],\n",
              "       [ 0,  0],\n",
              "       [ 0,  0],\n",
              "       ...,\n",
              "       [ 1, 53],\n",
              "       [ 1, 53],\n",
              "       [ 1, 53]])"
            ]
          },
          "metadata": {},
          "execution_count": 13
        }
      ]
    },
    {
      "cell_type": "code",
      "metadata": {
        "colab": {
          "base_uri": "https://localhost:8080/"
        },
        "id": "oiLwXuuO4MP0",
        "outputId": "3eec4b25-4ec2-4325-d433-ce4452d9fe5d"
      },
      "source": [
        "### Convert numpy to Tensors\n",
        "import torch\n",
        "cat_feature=torch.tensor(cat_feature, dtype=torch.int64)\n",
        "cat_feature"
      ],
      "execution_count": 14,
      "outputs": [
        {
          "output_type": "execute_result",
          "data": {
            "text/plain": [
              "tensor([[ 0,  0],\n",
              "        [ 0,  0],\n",
              "        [ 0,  0],\n",
              "        ...,\n",
              "        [ 1, 53],\n",
              "        [ 1, 53],\n",
              "        [ 1, 53]])"
            ]
          },
          "metadata": {},
          "execution_count": 14
        }
      ]
    },
    {
      "cell_type": "code",
      "metadata": {
        "colab": {
          "base_uri": "https://localhost:8080/"
        },
        "id": "CpdhCXuw6som",
        "outputId": "be91f4ea-3092-4081-a34b-e0b46c0f4df2"
      },
      "source": [
        "df_filter.columns"
      ],
      "execution_count": 15,
      "outputs": [
        {
          "output_type": "execute_result",
          "data": {
            "text/plain": [
              "Index(['AveragePrice', 'Total Volume', '4046', '4225', '4770', 'Total Bags',\n",
              "       'Small Bags', 'Large Bags', 'XLarge Bags', 'type', 'year', 'region'],\n",
              "      dtype='object')"
            ]
          },
          "metadata": {},
          "execution_count": 15
        }
      ]
    },
    {
      "cell_type": "code",
      "metadata": {
        "id": "8d4TFhNQ6kxi"
      },
      "source": [
        "#### create continuous variable\n",
        "num_feature=['AveragePrice', 'Total Volume', '4046', '4225', '4770', 'Total Bags','Small Bags', 'Large Bags', 'XLarge Bags', 'year']\n"
      ],
      "execution_count": 16,
      "outputs": []
    },
    {
      "cell_type": "code",
      "metadata": {
        "id": "Kx4hweT66-7J"
      },
      "source": [
        "num_feature=[]\n",
        "for i in df_filter.columns:\n",
        "  if i in ['type', 'region']:\n",
        "    pass\n",
        "  else:\n",
        "    num_feature.append(i) "
      ],
      "execution_count": 17,
      "outputs": []
    },
    {
      "cell_type": "code",
      "metadata": {
        "colab": {
          "base_uri": "https://localhost:8080/"
        },
        "id": "1JroxJrs7j2D",
        "outputId": "36fb56e2-c9db-42aa-90d0-ee85fbd850a4"
      },
      "source": [
        "num_feature"
      ],
      "execution_count": 18,
      "outputs": [
        {
          "output_type": "execute_result",
          "data": {
            "text/plain": [
              "['AveragePrice',\n",
              " 'Total Volume',\n",
              " '4046',\n",
              " '4225',\n",
              " '4770',\n",
              " 'Total Bags',\n",
              " 'Small Bags',\n",
              " 'Large Bags',\n",
              " 'XLarge Bags',\n",
              " 'year']"
            ]
          },
          "metadata": {},
          "execution_count": 18
        }
      ]
    },
    {
      "cell_type": "code",
      "metadata": {
        "colab": {
          "base_uri": "https://localhost:8080/"
        },
        "id": "sMb8_TGA7mxr",
        "outputId": "1e74dfb8-7323-4b56-960b-11a64baecabf"
      },
      "source": [
        "### Stacking continuous variable to a tensor\n",
        "num_values=np.stack([df_filter[i].values for i in num_feature], axis=1)\n",
        "num_values = torch.tensor(num_values, dtype=torch.float)\n",
        "num_values"
      ],
      "execution_count": 19,
      "outputs": [
        {
          "output_type": "execute_result",
          "data": {
            "text/plain": [
              "tensor([[1.3300e+00, 6.4237e+04, 1.0367e+03,  ..., 9.3250e+01, 0.0000e+00,\n",
              "         2.0150e+03],\n",
              "        [1.3500e+00, 5.4877e+04, 6.7428e+02,  ..., 9.7490e+01, 0.0000e+00,\n",
              "         2.0150e+03],\n",
              "        [9.3000e-01, 1.1822e+05, 7.9470e+02,  ..., 1.0314e+02, 0.0000e+00,\n",
              "         2.0150e+03],\n",
              "        ...,\n",
              "        [1.8700e+00, 1.3767e+04, 1.1919e+03,  ..., 4.2310e+01, 0.0000e+00,\n",
              "         2.0180e+03],\n",
              "        [1.9300e+00, 1.6205e+04, 1.5276e+03,  ..., 5.0000e+01, 0.0000e+00,\n",
              "         2.0180e+03],\n",
              "        [1.6200e+00, 1.7490e+04, 2.8948e+03,  ..., 2.6010e+01, 0.0000e+00,\n",
              "         2.0180e+03]])"
            ]
          },
          "metadata": {},
          "execution_count": 19
        }
      ]
    },
    {
      "cell_type": "code",
      "metadata": {
        "colab": {
          "base_uri": "https://localhost:8080/"
        },
        "id": "XVIDyUfO8XU1",
        "outputId": "fe0a8287-8044-48fc-b2f4-4366feb08ab8"
      },
      "source": [
        "num_values.dtype"
      ],
      "execution_count": 20,
      "outputs": [
        {
          "output_type": "execute_result",
          "data": {
            "text/plain": [
              "torch.float32"
            ]
          },
          "metadata": {},
          "execution_count": 20
        }
      ]
    },
    {
      "cell_type": "code",
      "metadata": {
        "colab": {
          "base_uri": "https://localhost:8080/"
        },
        "id": "PlTBWueE8cSH",
        "outputId": "22444fca-2927-4d85-daf0-c20b0c2ac39f"
      },
      "source": [
        "### Dependent Feature \n",
        "y= torch.tensor(df_filter[\"AveragePrice\"].values, dtype = torch.float).reshape(-1,1)\n",
        "y"
      ],
      "execution_count": 21,
      "outputs": [
        {
          "output_type": "execute_result",
          "data": {
            "text/plain": [
              "tensor([[1.3300],\n",
              "        [1.3500],\n",
              "        [0.9300],\n",
              "        ...,\n",
              "        [1.8700],\n",
              "        [1.9300],\n",
              "        [1.6200]])"
            ]
          },
          "metadata": {},
          "execution_count": 21
        }
      ]
    },
    {
      "cell_type": "code",
      "metadata": {
        "colab": {
          "base_uri": "https://localhost:8080/"
        },
        "id": "LsLT499u8ySS",
        "outputId": "8b4442f5-0dfc-47a6-f746-073e42efc9be"
      },
      "source": [
        "df_filter.info()"
      ],
      "execution_count": 22,
      "outputs": [
        {
          "output_type": "stream",
          "name": "stdout",
          "text": [
            "<class 'pandas.core.frame.DataFrame'>\n",
            "Int64Index: 14306 entries, 0 to 18248\n",
            "Data columns (total 12 columns):\n",
            " #   Column        Non-Null Count  Dtype  \n",
            "---  ------        --------------  -----  \n",
            " 0   AveragePrice  14306 non-null  float64\n",
            " 1   Total Volume  14306 non-null  float64\n",
            " 2   4046          14306 non-null  float64\n",
            " 3   4225          14306 non-null  float64\n",
            " 4   4770          14306 non-null  float64\n",
            " 5   Total Bags    14306 non-null  float64\n",
            " 6   Small Bags    14306 non-null  float64\n",
            " 7   Large Bags    14306 non-null  float64\n",
            " 8   XLarge Bags   14306 non-null  float64\n",
            " 9   type          14306 non-null  int64  \n",
            " 10  year          14306 non-null  int64  \n",
            " 11  region        14306 non-null  int64  \n",
            "dtypes: float64(9), int64(3)\n",
            "memory usage: 1.4 MB\n"
          ]
        }
      ]
    },
    {
      "cell_type": "code",
      "metadata": {
        "colab": {
          "base_uri": "https://localhost:8080/"
        },
        "id": "m92QDXpk82Tr",
        "outputId": "726f2c30-66a9-4a9b-b11b-4e4dea9e18fc"
      },
      "source": [
        "cat_feature.shape, num_values.shape, y.shape"
      ],
      "execution_count": 23,
      "outputs": [
        {
          "output_type": "execute_result",
          "data": {
            "text/plain": [
              "(torch.Size([14306, 2]), torch.Size([14306, 10]), torch.Size([14306, 1]))"
            ]
          },
          "metadata": {},
          "execution_count": 23
        }
      ]
    },
    {
      "cell_type": "code",
      "metadata": {
        "colab": {
          "base_uri": "https://localhost:8080/"
        },
        "id": "JhH5Fsbw8_xM",
        "outputId": "69375f30-e84a-44ea-eb8f-73f64d552a91"
      },
      "source": [
        "#### Embedding Size For Categorical columns\n",
        "len(df_filter['region'].unique())"
      ],
      "execution_count": 24,
      "outputs": [
        {
          "output_type": "execute_result",
          "data": {
            "text/plain": [
              "54"
            ]
          },
          "metadata": {},
          "execution_count": 24
        }
      ]
    },
    {
      "cell_type": "code",
      "metadata": {
        "colab": {
          "base_uri": "https://localhost:8080/"
        },
        "id": "aAKGApZ09Qhp",
        "outputId": "7cec5a86-f011-48fd-ecde-fb4425ddc7b5"
      },
      "source": [
        "cat_dims = [len(df_filter[col].unique()) for col in [\"type\", \"region\"]]\n",
        "cat_dims"
      ],
      "execution_count": 25,
      "outputs": [
        {
          "output_type": "execute_result",
          "data": {
            "text/plain": [
              "[2, 54]"
            ]
          },
          "metadata": {},
          "execution_count": 25
        }
      ]
    },
    {
      "cell_type": "code",
      "metadata": {
        "colab": {
          "base_uri": "https://localhost:8080/"
        },
        "id": "jJZVl9ca9nRJ",
        "outputId": "953805cc-832d-4d86-f81c-e0b282406b1a"
      },
      "source": [
        "embedding_dims=[(x, min(50, (x+1)//2)) for x in cat_dims]\n",
        "embedding_dims"
      ],
      "execution_count": 26,
      "outputs": [
        {
          "output_type": "execute_result",
          "data": {
            "text/plain": [
              "[(2, 1), (54, 27)]"
            ]
          },
          "metadata": {},
          "execution_count": 26
        }
      ]
    },
    {
      "cell_type": "code",
      "metadata": {
        "id": "R3xqwksB-HJD"
      },
      "source": [
        "import torch\n",
        "import torch.nn as nn\n",
        "import torch.nn.functional as F"
      ],
      "execution_count": 27,
      "outputs": []
    },
    {
      "cell_type": "code",
      "metadata": {
        "colab": {
          "base_uri": "https://localhost:8080/"
        },
        "id": "2lsMh0Ao-Rdk",
        "outputId": "1e42e9c4-60d5-4d77-cefe-94e9b889d7ee"
      },
      "source": [
        "embed_representation=nn.ModuleList([nn.Embedding(inp, out) for inp, out in embedding_dims])\n",
        "embed_representation"
      ],
      "execution_count": 28,
      "outputs": [
        {
          "output_type": "execute_result",
          "data": {
            "text/plain": [
              "ModuleList(\n",
              "  (0): Embedding(2, 1)\n",
              "  (1): Embedding(54, 27)\n",
              ")"
            ]
          },
          "metadata": {},
          "execution_count": 28
        }
      ]
    },
    {
      "cell_type": "code",
      "metadata": {
        "colab": {
          "base_uri": "https://localhost:8080/"
        },
        "id": "tdxUWLC8-n4A",
        "outputId": "c5a863bd-6470-44ae-8cb1-6f5c99ab14fa"
      },
      "source": [
        "cat_feature"
      ],
      "execution_count": 29,
      "outputs": [
        {
          "output_type": "execute_result",
          "data": {
            "text/plain": [
              "tensor([[ 0,  0],\n",
              "        [ 0,  0],\n",
              "        [ 0,  0],\n",
              "        ...,\n",
              "        [ 1, 53],\n",
              "        [ 1, 53],\n",
              "        [ 1, 53]])"
            ]
          },
          "metadata": {},
          "execution_count": 29
        }
      ]
    },
    {
      "cell_type": "code",
      "metadata": {
        "colab": {
          "base_uri": "https://localhost:8080/"
        },
        "id": "dQo8fljrR4SP",
        "outputId": "412d7d0c-d0f4-4005-a32d-94be85881413"
      },
      "source": [
        "cat_featuresz=cat_feature[:2]\n",
        "cat_featuresz"
      ],
      "execution_count": 30,
      "outputs": [
        {
          "output_type": "execute_result",
          "data": {
            "text/plain": [
              "tensor([[0, 0],\n",
              "        [0, 0]])"
            ]
          },
          "metadata": {},
          "execution_count": 30
        }
      ]
    },
    {
      "cell_type": "code",
      "metadata": {
        "id": "RnEtUhiS-tiH"
      },
      "source": [
        "pd.set_option('display.max_rows', 500)\n",
        "embedding_val=[]\n",
        "for i, e in enumerate(embed_representation):\n",
        "  embedding_val.append(e(cat_feature[:, i]))\n",
        "  "
      ],
      "execution_count": 31,
      "outputs": []
    },
    {
      "cell_type": "code",
      "metadata": {
        "colab": {
          "base_uri": "https://localhost:8080/"
        },
        "id": "IowsNRpP-73-",
        "outputId": "2c7e51d7-f975-4ca1-d608-7aeefa325b2f"
      },
      "source": [
        "embedding_val"
      ],
      "execution_count": 32,
      "outputs": [
        {
          "output_type": "execute_result",
          "data": {
            "text/plain": [
              "[tensor([[0.6039],\n",
              "         [0.6039],\n",
              "         [0.6039],\n",
              "         ...,\n",
              "         [0.4315],\n",
              "         [0.4315],\n",
              "         [0.4315]], grad_fn=<EmbeddingBackward>),\n",
              " tensor([[-0.4292,  0.9833, -2.2339,  ..., -1.1910,  1.0134,  0.3036],\n",
              "         [-0.4292,  0.9833, -2.2339,  ..., -1.1910,  1.0134,  0.3036],\n",
              "         [-0.4292,  0.9833, -2.2339,  ..., -1.1910,  1.0134,  0.3036],\n",
              "         ...,\n",
              "         [ 0.8453, -0.4687, -0.7836,  ...,  0.3202, -0.1921,  1.4589],\n",
              "         [ 0.8453, -0.4687, -0.7836,  ...,  0.3202, -0.1921,  1.4589],\n",
              "         [ 0.8453, -0.4687, -0.7836,  ...,  0.3202, -0.1921,  1.4589]],\n",
              "        grad_fn=<EmbeddingBackward>)]"
            ]
          },
          "metadata": {},
          "execution_count": 32
        }
      ]
    },
    {
      "cell_type": "code",
      "metadata": {
        "colab": {
          "base_uri": "https://localhost:8080/"
        },
        "id": "MjX9SXD__EyQ",
        "outputId": "e0dc12c4-49ee-499d-8721-6b037b06bd76"
      },
      "source": [
        "z=torch.cat(embedding_val,1)\n",
        "z"
      ],
      "execution_count": 33,
      "outputs": [
        {
          "output_type": "execute_result",
          "data": {
            "text/plain": [
              "tensor([[ 0.6039, -0.4292,  0.9833,  ..., -1.1910,  1.0134,  0.3036],\n",
              "        [ 0.6039, -0.4292,  0.9833,  ..., -1.1910,  1.0134,  0.3036],\n",
              "        [ 0.6039, -0.4292,  0.9833,  ..., -1.1910,  1.0134,  0.3036],\n",
              "        ...,\n",
              "        [ 0.4315,  0.8453, -0.4687,  ...,  0.3202, -0.1921,  1.4589],\n",
              "        [ 0.4315,  0.8453, -0.4687,  ...,  0.3202, -0.1921,  1.4589],\n",
              "        [ 0.4315,  0.8453, -0.4687,  ...,  0.3202, -0.1921,  1.4589]],\n",
              "       grad_fn=<CatBackward>)"
            ]
          },
          "metadata": {},
          "execution_count": 33
        }
      ]
    },
    {
      "cell_type": "code",
      "metadata": {
        "id": "Lz3jxB2c_ITl"
      },
      "source": [
        "\n",
        "\n",
        "\n",
        "#### Implement dropupout\n",
        "dropout=nn.Dropout(.4)"
      ],
      "execution_count": 34,
      "outputs": []
    },
    {
      "cell_type": "code",
      "metadata": {
        "colab": {
          "base_uri": "https://localhost:8080/"
        },
        "id": "obq3V_1q_NXI",
        "outputId": "b910ab54-b947-4dbc-ab09-41f4c6ec4ae3"
      },
      "source": [
        "\n",
        "\n",
        "final_embed=dropout(z)\n",
        "final_embed"
      ],
      "execution_count": 35,
      "outputs": [
        {
          "output_type": "execute_result",
          "data": {
            "text/plain": [
              "tensor([[ 0.0000, -0.7153,  1.6389,  ..., -1.9850,  1.6890,  0.5060],\n",
              "        [ 0.0000, -0.0000,  0.0000,  ..., -0.0000,  1.6890,  0.5060],\n",
              "        [ 1.0065, -0.7153,  1.6389,  ..., -0.0000,  1.6890,  0.5060],\n",
              "        ...,\n",
              "        [ 0.0000,  0.0000, -0.0000,  ...,  0.5336, -0.3202,  2.4316],\n",
              "        [ 0.7191,  1.4088, -0.7811,  ...,  0.5336, -0.0000,  2.4316],\n",
              "        [ 0.0000,  1.4088, -0.0000,  ...,  0.0000, -0.3202,  2.4316]],\n",
              "       grad_fn=<MulBackward0>)"
            ]
          },
          "metadata": {},
          "execution_count": 35
        }
      ]
    },
    {
      "cell_type": "code",
      "metadata": {
        "id": "uPCNeh5c_Q_K"
      },
      "source": [
        "class FeedForwardNN(nn.Module):\n",
        "\n",
        "    def __init__(self, embedding_dims, n_cont, out_sz, layers, p=0.5):\n",
        "        super().__init__()\n",
        "        self.embeds = nn.ModuleList([nn.Embedding(inp,out) for inp,out in embedding_dims])\n",
        "        self.emb_drop = nn.Dropout(p)\n",
        "        self.bn_cont = nn.BatchNorm1d(n_cont)\n",
        "        \n",
        "        \n",
        "        layerlist = []\n",
        "        n_emb = sum((out for inp,out in embedding_dims))\n",
        "        n_in = n_emb + n_cont\n",
        "        \n",
        "        for i in layers:\n",
        "            layerlist.append(nn.Linear(n_in,i)) \n",
        "            layerlist.append(nn.ReLU(inplace=True))\n",
        "            layerlist.append(nn.BatchNorm1d(i))\n",
        "            layerlist.append(nn.Dropout(p))\n",
        "            n_in = i\n",
        "        layerlist.append(nn.Linear(layers[-1],out_sz))\n",
        "            \n",
        "        self.layers = nn.Sequential(*layerlist)\n",
        "    \n",
        "    def forward(self, x_cat, x_cont):\n",
        "        embeddings = []\n",
        "        for i,e in enumerate(self.embeds):\n",
        "            embeddings.append(e(x_cat[:,i]))\n",
        "        x = torch.cat(embeddings, 1)\n",
        "        x = self.emb_drop(x)\n",
        "        \n",
        "        x_cont = self.bn_cont(x_cont)\n",
        "        x = torch.cat([x, x_cont], 1)\n",
        "        x = self.layers(x)\n",
        "        return x"
      ],
      "execution_count": 36,
      "outputs": []
    },
    {
      "cell_type": "code",
      "metadata": {
        "colab": {
          "base_uri": "https://localhost:8080/"
        },
        "id": "pys36F0y_bMu",
        "outputId": "9f702444-3626-4660-a7b6-2853f0ac1c51"
      },
      "source": [
        "len(num_feature)"
      ],
      "execution_count": 37,
      "outputs": [
        {
          "output_type": "execute_result",
          "data": {
            "text/plain": [
              "10"
            ]
          },
          "metadata": {},
          "execution_count": 37
        }
      ]
    },
    {
      "cell_type": "code",
      "metadata": {
        "id": "_6qAKT3A_fhT"
      },
      "source": [
        "torch.manual_seed(100)\n",
        "model=FeedForwardNN(embedding_dims,len(num_feature),1,[100,50],p=0.4)"
      ],
      "execution_count": 38,
      "outputs": []
    },
    {
      "cell_type": "code",
      "metadata": {
        "colab": {
          "base_uri": "https://localhost:8080/"
        },
        "id": "mdUy2QLW_rih",
        "outputId": "0238964d-e49f-4d55-dfe3-7206b1987923"
      },
      "source": [
        "model"
      ],
      "execution_count": 39,
      "outputs": [
        {
          "output_type": "execute_result",
          "data": {
            "text/plain": [
              "FeedForwardNN(\n",
              "  (embeds): ModuleList(\n",
              "    (0): Embedding(2, 1)\n",
              "    (1): Embedding(54, 27)\n",
              "  )\n",
              "  (emb_drop): Dropout(p=0.4, inplace=False)\n",
              "  (bn_cont): BatchNorm1d(10, eps=1e-05, momentum=0.1, affine=True, track_running_stats=True)\n",
              "  (layers): Sequential(\n",
              "    (0): Linear(in_features=38, out_features=100, bias=True)\n",
              "    (1): ReLU(inplace=True)\n",
              "    (2): BatchNorm1d(100, eps=1e-05, momentum=0.1, affine=True, track_running_stats=True)\n",
              "    (3): Dropout(p=0.4, inplace=False)\n",
              "    (4): Linear(in_features=100, out_features=50, bias=True)\n",
              "    (5): ReLU(inplace=True)\n",
              "    (6): BatchNorm1d(50, eps=1e-05, momentum=0.1, affine=True, track_running_stats=True)\n",
              "    (7): Dropout(p=0.4, inplace=False)\n",
              "    (8): Linear(in_features=50, out_features=1, bias=True)\n",
              "  )\n",
              ")"
            ]
          },
          "metadata": {},
          "execution_count": 39
        }
      ]
    },
    {
      "cell_type": "code",
      "metadata": {
        "id": "C2QUycuo_tqc"
      },
      "source": [
        "loss_function = nn.MSELoss()\n",
        "optimizer = torch.optim.Adam(model.parameters(), lr=0.01)"
      ],
      "execution_count": 40,
      "outputs": []
    },
    {
      "cell_type": "code",
      "metadata": {
        "colab": {
          "base_uri": "https://localhost:8080/"
        },
        "id": "2QcxfO3Q_xMr",
        "outputId": "e10bb5c5-071c-4a15-dad8-c8fad7b98046"
      },
      "source": [
        "df_filter.shape"
      ],
      "execution_count": 41,
      "outputs": [
        {
          "output_type": "execute_result",
          "data": {
            "text/plain": [
              "(14306, 12)"
            ]
          },
          "metadata": {},
          "execution_count": 41
        }
      ]
    },
    {
      "cell_type": "code",
      "metadata": {
        "id": "2xiRDWOsAM4W"
      },
      "source": [
        "batch_size = 14306\n",
        "test_size = int(batch_size*0.15)\n",
        "train_categorical = cat_feature[:batch_size - test_size]\n",
        "test_categorical = cat_feature[batch_size - test_size: batch_size]\n",
        "train_num = num_values[:batch_size - test_size]\n",
        "test_num = num_values[batch_size -  test_size: batch_size]\n",
        "y_train = y[:batch_size - test_size]\n",
        "y_test = y[batch_size - test_size:batch_size]"
      ],
      "execution_count": 42,
      "outputs": []
    },
    {
      "cell_type": "code",
      "metadata": {
        "colab": {
          "base_uri": "https://localhost:8080/"
        },
        "id": "GQt7LWrqAbUx",
        "outputId": "b4466803-aa06-47eb-d61b-d5eab4e9a2d3"
      },
      "source": [
        "\n",
        "len(train_categorical), len(test_categorical), len(train_num), len(test_num), len(y_train), len(y_test)"
      ],
      "execution_count": 43,
      "outputs": [
        {
          "output_type": "execute_result",
          "data": {
            "text/plain": [
              "(12161, 2145, 12161, 2145, 12161, 2145)"
            ]
          },
          "metadata": {},
          "execution_count": 43
        }
      ]
    },
    {
      "cell_type": "code",
      "metadata": {
        "id": "uVhip89VrPo8"
      },
      "source": [
        ""
      ],
      "execution_count": 43,
      "outputs": []
    },
    {
      "cell_type": "code",
      "metadata": {
        "colab": {
          "base_uri": "https://localhost:8080/"
        },
        "id": "qi5qzhgtAhfZ",
        "outputId": "01732a23-64b4-4815-bcc9-16a2bdbae584"
      },
      "source": [
        "epochs=520\n",
        "final_losses=[]\n",
        "for i in range(epochs):\n",
        "  i=i+1\n",
        "  y_pred=model(train_categorical, train_num)\n",
        "  loss=torch.sqrt(loss_function(y_pred, y_train))\n",
        "  final_losses.append(loss)\n",
        "  if i%10 == 1:\n",
        "    print(\"Epoch number: {} and loss: {}\".format(i, loss.item()))\n",
        "    optimizer.zero_grad()\n",
        "    loss.backward()\n",
        "    optimizer.step()"
      ],
      "execution_count": 44,
      "outputs": [
        {
          "output_type": "stream",
          "name": "stdout",
          "text": [
            "Epoch number: 1 and loss: 1.6825826168060303\n",
            "Epoch number: 11 and loss: 1.5470324754714966\n",
            "Epoch number: 21 and loss: 1.4352529048919678\n",
            "Epoch number: 31 and loss: 1.3835926055908203\n",
            "Epoch number: 41 and loss: 1.3454737663269043\n",
            "Epoch number: 51 and loss: 1.308367133140564\n",
            "Epoch number: 61 and loss: 1.2802170515060425\n",
            "Epoch number: 71 and loss: 1.2572110891342163\n",
            "Epoch number: 81 and loss: 1.2278441190719604\n",
            "Epoch number: 91 and loss: 1.1978868246078491\n",
            "Epoch number: 101 and loss: 1.1587244272232056\n",
            "Epoch number: 111 and loss: 1.130661964416504\n",
            "Epoch number: 121 and loss: 1.0858805179595947\n",
            "Epoch number: 131 and loss: 1.041932225227356\n",
            "Epoch number: 141 and loss: 0.9948590993881226\n",
            "Epoch number: 151 and loss: 0.9295032620429993\n",
            "Epoch number: 161 and loss: 0.8672378063201904\n",
            "Epoch number: 171 and loss: 0.8063154220581055\n",
            "Epoch number: 181 and loss: 0.7334136962890625\n",
            "Epoch number: 191 and loss: 0.6681170463562012\n",
            "Epoch number: 201 and loss: 0.6244848370552063\n",
            "Epoch number: 211 and loss: 0.5926700830459595\n",
            "Epoch number: 221 and loss: 0.5875717997550964\n",
            "Epoch number: 231 and loss: 0.5919264554977417\n",
            "Epoch number: 241 and loss: 0.5965161323547363\n",
            "Epoch number: 251 and loss: 0.5764505863189697\n",
            "Epoch number: 261 and loss: 0.5582867860794067\n",
            "Epoch number: 271 and loss: 0.5289007425308228\n",
            "Epoch number: 281 and loss: 0.4814976453781128\n",
            "Epoch number: 291 and loss: 0.44759997725486755\n",
            "Epoch number: 301 and loss: 0.4241185486316681\n",
            "Epoch number: 311 and loss: 0.41450217366218567\n",
            "Epoch number: 321 and loss: 0.4172893166542053\n",
            "Epoch number: 331 and loss: 0.41214051842689514\n",
            "Epoch number: 341 and loss: 0.4034349322319031\n",
            "Epoch number: 351 and loss: 0.39124706387519836\n",
            "Epoch number: 361 and loss: 0.3720749318599701\n",
            "Epoch number: 371 and loss: 0.34869465231895447\n",
            "Epoch number: 381 and loss: 0.32571983337402344\n",
            "Epoch number: 391 and loss: 0.3243007957935333\n",
            "Epoch number: 401 and loss: 0.3228137791156769\n",
            "Epoch number: 411 and loss: 0.32041165232658386\n",
            "Epoch number: 421 and loss: 0.31495314836502075\n",
            "Epoch number: 431 and loss: 0.296922504901886\n",
            "Epoch number: 441 and loss: 0.2831694185733795\n",
            "Epoch number: 451 and loss: 0.2711707353591919\n",
            "Epoch number: 461 and loss: 0.26960891485214233\n",
            "Epoch number: 471 and loss: 0.271028071641922\n",
            "Epoch number: 481 and loss: 0.2634809613227844\n",
            "Epoch number: 491 and loss: 0.25699910521507263\n",
            "Epoch number: 501 and loss: 0.24819155037403107\n",
            "Epoch number: 511 and loss: 0.24033351242542267\n"
          ]
        }
      ]
    },
    {
      "cell_type": "code",
      "metadata": {
        "id": "tNRyX69kAvg0"
      },
      "source": [
        "import matplotlib.pyplot as plt\n",
        "%matplotlib inline\n"
      ],
      "execution_count": 45,
      "outputs": []
    },
    {
      "cell_type": "code",
      "metadata": {
        "colab": {
          "base_uri": "https://localhost:8080/",
          "height": 296
        },
        "id": "8Q-ab0Bh-Elh",
        "outputId": "62f1093d-71b0-4e7d-d43e-4e2bcd139ec4"
      },
      "source": [
        "plt.plot(range(epochs), final_losses)\n",
        "plt.ylabel(\"RMSE Loss\")\n",
        "plt.xlabel(\"epoch\")"
      ],
      "execution_count": 46,
      "outputs": [
        {
          "output_type": "execute_result",
          "data": {
            "text/plain": [
              "Text(0.5, 0, 'epoch')"
            ]
          },
          "metadata": {},
          "execution_count": 46
        },
        {
          "output_type": "display_data",
          "data": {
            "image/png": "[encoded data removed]",
            "text/plain": [
              "<Figure size 432x288 with 1 Axes>"
            ]
          },
          "metadata": {
            "needs_background": "light"
          }
        }
      ]
    },
    {
      "cell_type": "code",
      "metadata": {
        "id": "uLoBaGCe-Idb"
      },
      "source": [
        "#### Validate the Test Data\n",
        "y_pred=\"\"\n",
        "with torch.no_grad():\n",
        "  y_pred = model(test_categorical, test_num)\n",
        "  loss= torch.sqrt(loss_function(y_pred, y_test))\n",
        "\n"
      ],
      "execution_count": 47,
      "outputs": []
    },
    {
      "cell_type": "code",
      "metadata": {
        "colab": {
          "base_uri": "https://localhost:8080/"
        },
        "id": "V8KFLia2-f7i",
        "outputId": "fb4671ee-535a-44c1-bf70-3c4ef1138e45"
      },
      "source": [
        "print(\"RMSE:{}\".format(loss))"
      ],
      "execution_count": 48,
      "outputs": [
        {
          "output_type": "stream",
          "name": "stdout",
          "text": [
            "RMSE:0.3762643337249756\n"
          ]
        }
      ]
    },
    {
      "cell_type": "code",
      "metadata": {
        "id": "t6-_a7IO-zLV"
      },
      "source": [
        "data_verify = pd.DataFrame(y_test.tolist(), columns=[\"Test\"])"
      ],
      "execution_count": 49,
      "outputs": []
    },
    {
      "cell_type": "code",
      "metadata": {
        "id": "hFNkwKA5-2TP"
      },
      "source": [
        "data_predicted = pd.DataFrame(y_pred.tolist(), columns= [\"Prediction\"])"
      ],
      "execution_count": 50,
      "outputs": []
    },
    {
      "cell_type": "code",
      "metadata": {
        "id": "-knY0V2n-7C3"
      },
      "source": [
        "final_output=pd.concat([data_verify,data_predicted],axis=1)\n",
        "final_output['Difference']=final_output['Test']-final_output['Prediction']\n"
      ],
      "execution_count": 51,
      "outputs": []
    },
    {
      "cell_type": "code",
      "metadata": {
        "colab": {
          "base_uri": "https://localhost:8080/",
          "height": 417
        },
        "id": "Tndhr2wu_j-T",
        "outputId": "930a512c-1cd6-4197-e7da-7f3d80ae2d3b"
      },
      "source": [
        "final_output"
      ],
      "execution_count": 52,
      "outputs": [
        {
          "output_type": "execute_result",
          "data": {
            "text/html": [
              "<div>\n",
              "<style scoped>\n",
              "    .dataframe tbody tr th:only-of-type {\n",
              "        vertical-align: middle;\n",
              "    }\n",
              "\n",
              "    .dataframe tbody tr th {\n",
              "        vertical-align: top;\n",
              "    }\n",
              "\n",
              "    .dataframe thead th {\n",
              "        text-align: right;\n",
              "    }\n",
              "</style>\n",
              "<table border=\"1\" class=\"dataframe\">\n",
              "  <thead>\n",
              "    <tr style=\"text-align: right;\">\n",
              "      <th></th>\n",
              "      <th>Test</th>\n",
              "      <th>Prediction</th>\n",
              "      <th>Difference</th>\n",
              "    </tr>\n",
              "  </thead>\n",
              "  <tbody>\n",
              "    <tr>\n",
              "      <th>0</th>\n",
              "      <td>1.45</td>\n",
              "      <td>1.097704</td>\n",
              "      <td>0.352296</td>\n",
              "    </tr>\n",
              "    <tr>\n",
              "      <th>1</th>\n",
              "      <td>1.31</td>\n",
              "      <td>0.955020</td>\n",
              "      <td>0.354980</td>\n",
              "    </tr>\n",
              "    <tr>\n",
              "      <th>2</th>\n",
              "      <td>1.60</td>\n",
              "      <td>1.589170</td>\n",
              "      <td>0.010830</td>\n",
              "    </tr>\n",
              "    <tr>\n",
              "      <th>3</th>\n",
              "      <td>1.55</td>\n",
              "      <td>1.306661</td>\n",
              "      <td>0.243339</td>\n",
              "    </tr>\n",
              "    <tr>\n",
              "      <th>4</th>\n",
              "      <td>1.59</td>\n",
              "      <td>1.345453</td>\n",
              "      <td>0.244547</td>\n",
              "    </tr>\n",
              "    <tr>\n",
              "      <th>...</th>\n",
              "      <td>...</td>\n",
              "      <td>...</td>\n",
              "      <td>...</td>\n",
              "    </tr>\n",
              "    <tr>\n",
              "      <th>2140</th>\n",
              "      <td>1.63</td>\n",
              "      <td>1.299587</td>\n",
              "      <td>0.330413</td>\n",
              "    </tr>\n",
              "    <tr>\n",
              "      <th>2141</th>\n",
              "      <td>1.71</td>\n",
              "      <td>1.147842</td>\n",
              "      <td>0.562158</td>\n",
              "    </tr>\n",
              "    <tr>\n",
              "      <th>2142</th>\n",
              "      <td>1.87</td>\n",
              "      <td>1.253011</td>\n",
              "      <td>0.616989</td>\n",
              "    </tr>\n",
              "    <tr>\n",
              "      <th>2143</th>\n",
              "      <td>1.93</td>\n",
              "      <td>1.506546</td>\n",
              "      <td>0.423454</td>\n",
              "    </tr>\n",
              "    <tr>\n",
              "      <th>2144</th>\n",
              "      <td>1.62</td>\n",
              "      <td>1.287701</td>\n",
              "      <td>0.332299</td>\n",
              "    </tr>\n",
              "  </tbody>\n",
              "</table>\n",
              "<p>2145 rows × 3 columns</p>\n",
              "</div>"
            ],
            "text/plain": [
              "      Test  Prediction  Difference\n",
              "0     1.45    1.097704    0.352296\n",
              "1     1.31    0.955020    0.354980\n",
              "2     1.60    1.589170    0.010830\n",
              "3     1.55    1.306661    0.243339\n",
              "4     1.59    1.345453    0.244547\n",
              "...    ...         ...         ...\n",
              "2140  1.63    1.299587    0.330413\n",
              "2141  1.71    1.147842    0.562158\n",
              "2142  1.87    1.253011    0.616989\n",
              "2143  1.93    1.506546    0.423454\n",
              "2144  1.62    1.287701    0.332299\n",
              "\n",
              "[2145 rows x 3 columns]"
            ]
          },
          "metadata": {},
          "execution_count": 52
        }
      ]
    },
    {
      "cell_type": "code",
      "metadata": {
        "id": "bX8H6CvI_mcY"
      },
      "source": [
        "#### Saving The Model\n",
        "#### Save the model\n",
        "torch.save(model, \"AvocadoPrice.pt\")\n"
      ],
      "execution_count": 53,
      "outputs": []
    },
    {
      "cell_type": "code",
      "metadata": {
        "id": "4f-6hhiN_vV4"
      },
      "source": [
        "torch.save(model.state_dict(), \"AvocadoPrice.pt\")"
      ],
      "execution_count": 54,
      "outputs": []
    },
    {
      "cell_type": "code",
      "metadata": {
        "id": "OubI_bok_z3h"
      },
      "source": [
        "### Loading the saved Model\n",
        "embs_size=[(2,1), (54, 27)]\n",
        "model1=FeedForwardNN(embs_size,10,1,[100,50],p=0.4)"
      ],
      "execution_count": 55,
      "outputs": []
    },
    {
      "cell_type": "code",
      "metadata": {
        "colab": {
          "base_uri": "https://localhost:8080/"
        },
        "id": "Z7SuWCBBAKEe",
        "outputId": "750ed818-b3f0-4162-f357-30ee130721f3"
      },
      "source": [
        "model1.load_state_dict(torch.load('AvocadoPrice.pt'))"
      ],
      "execution_count": 56,
      "outputs": [
        {
          "output_type": "execute_result",
          "data": {
            "text/plain": [
              "<All keys matched successfully>"
            ]
          },
          "metadata": {},
          "execution_count": 56
        }
      ]
    },
    {
      "cell_type": "code",
      "metadata": {
        "colab": {
          "base_uri": "https://localhost:8080/"
        },
        "id": "U9Kd7jrOANsC",
        "outputId": "67d90fee-a6e5-4471-834b-c205a42fe087"
      },
      "source": [
        "model1.eval()"
      ],
      "execution_count": 57,
      "outputs": [
        {
          "output_type": "execute_result",
          "data": {
            "text/plain": [
              "FeedForwardNN(\n",
              "  (embeds): ModuleList(\n",
              "    (0): Embedding(2, 1)\n",
              "    (1): Embedding(54, 27)\n",
              "  )\n",
              "  (emb_drop): Dropout(p=0.4, inplace=False)\n",
              "  (bn_cont): BatchNorm1d(10, eps=1e-05, momentum=0.1, affine=True, track_running_stats=True)\n",
              "  (layers): Sequential(\n",
              "    (0): Linear(in_features=38, out_features=100, bias=True)\n",
              "    (1): ReLU(inplace=True)\n",
              "    (2): BatchNorm1d(100, eps=1e-05, momentum=0.1, affine=True, track_running_stats=True)\n",
              "    (3): Dropout(p=0.4, inplace=False)\n",
              "    (4): Linear(in_features=100, out_features=50, bias=True)\n",
              "    (5): ReLU(inplace=True)\n",
              "    (6): BatchNorm1d(50, eps=1e-05, momentum=0.1, affine=True, track_running_stats=True)\n",
              "    (7): Dropout(p=0.4, inplace=False)\n",
              "    (8): Linear(in_features=50, out_features=1, bias=True)\n",
              "  )\n",
              ")"
            ]
          },
          "metadata": {},
          "execution_count": 57
        }
      ]
    },
    {
      "cell_type": "code",
      "metadata": {
        "id": "58DenDgMAwxG"
      },
      "source": [
        ""
      ],
      "execution_count": 57,
      "outputs": []
    }
  ]
}